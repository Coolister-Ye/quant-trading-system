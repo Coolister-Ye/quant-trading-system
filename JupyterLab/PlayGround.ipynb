{
 "cells": [
  {
   "cell_type": "code",
   "execution_count": 1,
   "metadata": {
    "pycharm": {
     "is_executing": false
    }
   },
   "outputs": [],
   "source": [
    "import atomacos\n",
    "import pyautogui\n",
    "\n",
    "atomacos.launchAppByBundleId('com.tdx.tdxiMac')\n",
    "app = atomacos.getAppRefByBundleId('com.tdx.tdxiMac')"
   ]
  },
  {
   "cell_type": "code",
   "execution_count": 31,
   "metadata": {
    "pycharm": {
     "is_executing": false,
     "name": "#%%\n"
    }
   },
   "outputs": [
    {
     "name": "stdout",
     "output_type": "stream",
     "text": [
      "平安证券网上交易 苏宁易购\n"
     ]
    }
   ],
   "source": [
    "window = app.windows()[0]\n",
    "window.AXTitle"
   ]
  },
  {
   "cell_type": "code",
   "execution_count": 33,
   "metadata": {},
   "outputs": [
    {
     "data": {
      "text/plain": [
       "[<atomacos.AXClasses.NativeUIElement AXComboBox 深A 0297615685>,\n",
       " <atomacos.AXClasses.NativeUIElement AXComboBox 限价委托>,\n",
       " <atomacos.AXClasses.NativeUIElement AXComboBox combo box>,\n",
       " <atomacos.AXClasses.NativeUIElement AXComboBox 所有币种>]"
      ]
     },
     "execution_count": 33,
     "metadata": {},
     "output_type": "execute_result"
    }
   ],
   "source": [
    "allComboBox = window.findAll(AXRole='AXComboBox')\n",
    "allComboBox"
   ]
  },
  {
   "cell_type": "code",
   "execution_count": 36,
   "metadata": {},
   "outputs": [],
   "source": [
    "ComboBox = allComboBox[0]"
   ]
  },
  {
   "cell_type": "code",
   "execution_count": 37,
   "metadata": {},
   "outputs": [
    {
     "data": {
      "text/plain": [
       "<atomacos.AXClasses.NativeUIElement AXButton button>"
      ]
     },
     "execution_count": 37,
     "metadata": {},
     "output_type": "execute_result"
    }
   ],
   "source": [
    "CodeButton = ComboBox.AXChildren[0]\n",
    "CodeButton"
   ]
  },
  {
   "cell_type": "code",
   "execution_count": 39,
   "metadata": {},
   "outputs": [],
   "source": [
    "CodeButton.clickMouseButtonLeft(CodeButton.AXPosition)"
   ]
  },
  {
   "cell_type": "code",
   "execution_count": 40,
   "metadata": {},
   "outputs": [],
   "source": [
    "CodeButton.Press()"
   ]
  },
  {
   "cell_type": "code",
   "execution_count": 41,
   "metadata": {},
   "outputs": [],
   "source": [
    "def clickComboBox(ComboBox, itemIndex=0):\n",
    "    CodeButton = ComboBox.AXChildren[0]\n",
    "    CodeButton.Press()\n",
    "    CodeText = ComboBox.AXChildren[1].AXChildren[0].AXChildren[itemIndex]\n",
    "    CodeText.clickMouseButtonLeft(CodeText.AXPosition)\n",
    "    \n",
    "clickComboBox(allComboBox[0], 1)"
   ]
  },
  {
   "cell_type": "code",
   "execution_count": 43,
   "metadata": {
    "pycharm": {
     "is_executing": false,
     "name": "#%%\n"
    }
   },
   "outputs": [
    {
     "data": {
      "text/plain": [
       "[<atomacos.AXClasses.NativeUIElement AXTextField text field>,\n",
       " <atomacos.AXClasses.NativeUIElement AXTextField text field>,\n",
       " <atomacos.AXClasses.NativeUIElement AXTextField text field>]"
      ]
     },
     "execution_count": 43,
     "metadata": {},
     "output_type": "execute_result"
    }
   ],
   "source": [
    "allTextField = window.textFields()\n",
    "allTextField"
   ]
  },
  {
   "cell_type": "code",
   "execution_count": 49,
   "metadata": {},
   "outputs": [
    {
     "data": {
      "text/plain": [
       "['AXSelectedTextRange',\n",
       " 'AXNumberOfCharacters',\n",
       " 'AXEnabled',\n",
       " 'AXParent',\n",
       " 'AXSize',\n",
       " 'AXFocused',\n",
       " 'AXChildren',\n",
       " 'AXPlaceholderValue',\n",
       " 'AXRole',\n",
       " 'AXTopLevelUIElement',\n",
       " 'AXInsertionPointLineNumber',\n",
       " 'AXHelp',\n",
       " 'AXValue',\n",
       " 'AXPosition',\n",
       " 'AXWindow',\n",
       " 'AXRoleDescription',\n",
       " 'AXChildrenInNavigationOrder',\n",
       " 'AXVisibleCharacterRange',\n",
       " 'AXSelectedText',\n",
       " 'AXFrame']"
      ]
     },
     "execution_count": 49,
     "metadata": {},
     "output_type": "execute_result"
    }
   ],
   "source": [
    "allTextField[0].getAttributes()"
   ]
  },
  {
   "cell_type": "code",
   "execution_count": 55,
   "metadata": {},
   "outputs": [],
   "source": [
    "allTextField[0].AXSelectedText = '002024'\n",
    "allTextField[0].Confirm()"
   ]
  },
  {
   "cell_type": "code",
   "execution_count": 65,
   "metadata": {
    "pycharm": {
     "is_executing": false,
     "name": "#%%\n"
    }
   },
   "outputs": [
    {
     "data": {
      "text/plain": [
       "<atomacos.AXClasses.NativeUIElement AXComboBox 深A 0297615685>"
      ]
     },
     "execution_count": 65,
     "metadata": {},
     "output_type": "execute_result"
    }
   ],
   "source": [
    "marketCodeComboBox =  window.findFirst(AXRole='AXComboBox')\n",
    "marketCodeComboBox"
   ]
  },
  {
   "cell_type": "code",
   "execution_count": 66,
   "metadata": {
    "pycharm": {
     "is_executing": false,
     "name": "#%%\n"
    }
   },
   "outputs": [],
   "source": [
    "bt = marketCodeComboBox.AXChildren[0]\n",
    "bt.clickMouseButtonLeft(bt.AXPosition)"
   ]
  },
  {
   "cell_type": "code",
   "execution_count": 67,
   "metadata": {
    "pycharm": {
     "is_executing": false,
     "name": "#%%\n"
    }
   },
   "outputs": [
    {
     "data": {
      "text/plain": [
       "<atomacos.AXClasses.NativeUIElement AXTextField 沪A A867359703>"
      ]
     },
     "execution_count": 67,
     "metadata": {},
     "output_type": "execute_result"
    }
   ],
   "source": [
    "mcbt = marketCodeComboBox.AXChildren[1].AXChildren[0].AXChildren[1]\n",
    "mcbt"
   ]
  },
  {
   "cell_type": "code",
   "execution_count": 68,
   "metadata": {
    "pycharm": {
     "is_executing": false,
     "name": "#%%\n"
    }
   },
   "outputs": [],
   "source": [
    "mcbt.clickMouseButtonLeft(mcbt.AXPosition)\n",
    "\n"
   ]
  },
  {
   "cell_type": "code",
   "execution_count": 17,
   "metadata": {
    "pycharm": {
     "is_executing": false,
     "name": "#%%\n"
    }
   },
   "outputs": [
    {
     "data": {
      "text/plain": [
       "[<atomacos.AXClasses.NativeUIElement AXTextField 002024>,\n",
       " <atomacos.AXClasses.NativeUIElement AXTextField 200>,\n",
       " <atomacos.AXClasses.NativeUIElement AXTextField 10>]"
      ]
     },
     "execution_count": 17,
     "metadata": {},
     "output_type": "execute_result"
    }
   ],
   "source": [
    "tfs = window.textFields()\n",
    "tfs[2].AXValue=100"
   ]
  },
  {
   "cell_type": "code",
   "execution_count": 23,
   "metadata": {},
   "outputs": [],
   "source": [
    "tfs[2].AXValue=str(11)"
   ]
  },
  {
   "cell_type": "code",
   "execution_count": 70,
   "metadata": {
    "pycharm": {
     "is_executing": false,
     "name": "#%%\n"
    }
   },
   "outputs": [],
   "source": [
    "tf.AXFocused = True\n",
    "pyautogui.write(\"00092\", interval=0.1)\n",
    "\n"
   ]
  },
  {
   "cell_type": "code",
   "execution_count": 71,
   "metadata": {
    "pycharm": {
     "is_executing": false,
     "name": "#%%\n"
    }
   },
   "outputs": [
    {
     "data": {
      "text/plain": [
       "[<atomacos.AXClasses.NativeUIElement AXComboBox 沪A A867359703>,\n",
       " <atomacos.AXClasses.NativeUIElement AXComboBox 限价委托>,\n",
       " <atomacos.AXClasses.NativeUIElement AXComboBox combo box>,\n",
       " <atomacos.AXClasses.NativeUIElement AXComboBox 所有币种>]"
      ]
     },
     "execution_count": 71,
     "metadata": {},
     "output_type": "execute_result"
    }
   ],
   "source": [
    "allComboBox =  window.findAll(AXRole='AXComboBox')\n",
    "allComboBox"
   ]
  },
  {
   "cell_type": "code",
   "execution_count": null,
   "metadata": {
    "pycharm": {
     "name": "#%%\n"
    }
   },
   "outputs": [],
   "source": [
    "callWay = allComboBox[1]"
   ]
  },
  {
   "cell_type": "code",
   "execution_count": 85,
   "metadata": {
    "pycharm": {
     "is_executing": false,
     "name": "#%%\n"
    }
   },
   "outputs": [],
   "source": [
    "w  = window.textFields()"
   ]
  },
  {
   "cell_type": "code",
   "execution_count": 88,
   "metadata": {
    "pycharm": {
     "is_executing": false,
     "name": "#%%\n"
    }
   },
   "outputs": [],
   "source": [
    "w[0].AXValue = \"888\"\n",
    "w[1].AXValue = \"9.99\"\n",
    "w[2].AXValue = \"6.66\""
   ]
  },
  {
   "cell_type": "code",
   "execution_count": 86,
   "metadata": {
    "pycharm": {
     "is_executing": false,
     "name": "#%%\n"
    }
   },
   "outputs": [
    {
     "data": {
      "text/plain": [
       "[<atomacos.AXClasses.NativeUIElement AXTextField text field>,\n",
       " <atomacos.AXClasses.NativeUIElement AXTextField text field>,\n",
       " <atomacos.AXClasses.NativeUIElement AXTextField text field>]"
      ]
     },
     "execution_count": 86,
     "metadata": {},
     "output_type": "execute_result"
    }
   ],
   "source": [
    "w\n"
   ]
  },
  {
   "cell_type": "code",
   "execution_count": 25,
   "metadata": {},
   "outputs": [],
   "source": [
    "d = app.windows()[0]"
   ]
  },
  {
   "cell_type": "code",
   "execution_count": 27,
   "metadata": {},
   "outputs": [
    {
     "data": {
      "text/plain": [
       "['AXFocused',\n",
       " 'AXFullScreen',\n",
       " 'AXTitle',\n",
       " 'AXChildrenInNavigationOrder',\n",
       " 'AXPosition',\n",
       " 'AXGrowArea',\n",
       " 'AXMinimizeButton',\n",
       " 'AXDocument',\n",
       " 'AXSections',\n",
       " 'AXCloseButton',\n",
       " 'AXMain',\n",
       " 'AXFullScreenButton',\n",
       " 'AXProxy',\n",
       " 'AXDefaultButton',\n",
       " 'AXMinimized',\n",
       " 'AXChildren',\n",
       " 'AXRole',\n",
       " 'AXParent',\n",
       " 'AXTitleUIElement',\n",
       " 'AXCancelButton',\n",
       " 'AXModal',\n",
       " 'AXSubrole',\n",
       " 'AXDescription',\n",
       " 'AXZoomButton',\n",
       " 'AXRoleDescription',\n",
       " 'AXSize',\n",
       " 'AXToolbarButton',\n",
       " 'AXFrame',\n",
       " 'AXIdentifier']"
      ]
     },
     "execution_count": 27,
     "metadata": {},
     "output_type": "execute_result"
    }
   ],
   "source": [
    "d.getAttributes()"
   ]
  },
  {
   "cell_type": "code",
   "execution_count": 28,
   "metadata": {},
   "outputs": [
    {
     "data": {
      "text/plain": [
       "'dialog'"
      ]
     },
     "execution_count": 28,
     "metadata": {},
     "output_type": "execute_result"
    }
   ],
   "source": [
    "d.AXRoleDescription"
   ]
  },
  {
   "cell_type": "code",
   "execution_count": 29,
   "metadata": {},
   "outputs": [
    {
     "data": {
      "text/plain": [
       "[]"
      ]
     },
     "execution_count": 29,
     "metadata": {},
     "output_type": "execute_result"
    }
   ],
   "source": [
    "app.windows('dialog')"
   ]
  },
  {
   "cell_type": "code",
   "execution_count": 127,
   "metadata": {},
   "outputs": [],
   "source": [
    "dialog = app.windows()[0]"
   ]
  },
  {
   "cell_type": "code",
   "execution_count": 57,
   "metadata": {},
   "outputs": [
    {
     "data": {
      "text/plain": [
       "<atomacos.AXClasses.NativeUIElement AXWindow dialog>"
      ]
     },
     "execution_count": 57,
     "metadata": {},
     "output_type": "execute_result"
    }
   ],
   "source": [
    "dialog"
   ]
  },
  {
   "cell_type": "code",
   "execution_count": 60,
   "metadata": {},
   "outputs": [
    {
     "data": {
      "text/plain": [
       "[<atomacos.AXClasses.NativeUIElement AXButton 确定>]"
      ]
     },
     "execution_count": 60,
     "metadata": {},
     "output_type": "execute_result"
    }
   ],
   "source": [
    "dialog.buttons('确定')"
   ]
  },
  {
   "cell_type": "code",
   "execution_count": 129,
   "metadata": {},
   "outputs": [],
   "source": [
    "actionButton = window.findFirst(AXRole='AXButton', AXTitle='卖出下单')"
   ]
  },
  {
   "cell_type": "code",
   "execution_count": 94,
   "metadata": {},
   "outputs": [
    {
     "data": {
      "text/plain": [
       "<atomacos.AXClasses.NativeUIElement AXButton 卖出下单>"
      ]
     },
     "execution_count": 94,
     "metadata": {},
     "output_type": "execute_result"
    }
   ],
   "source": [
    "actionButton"
   ]
  },
  {
   "cell_type": "code",
   "execution_count": 130,
   "metadata": {},
   "outputs": [
    {
     "data": {
      "text/plain": [
       "CGPoint(x=879.0, y=689.0)"
      ]
     },
     "execution_count": 130,
     "metadata": {},
     "output_type": "execute_result"
    }
   ],
   "source": [
    "p = actionButton.AXPosition\n",
    "p"
   ]
  },
  {
   "cell_type": "code",
   "execution_count": 131,
   "metadata": {},
   "outputs": [],
   "source": [
    "atomacos.launchAppByBundleId('com.tdx.tdxiMac')\n",
    "actionButton = window.findFirst(AXRole='AXButton', AXTitle='卖出下单')\n",
    "pyautogui.moveTo(actionButton.AXPosition)\n",
    "pyautogui.click()"
   ]
  },
  {
   "cell_type": "code",
   "execution_count": 128,
   "metadata": {},
   "outputs": [
    {
     "ename": "AXErrorCannotComplete",
     "evalue": "The function cannot complete because messaging has failed in some way or the application has not yet responded.",
     "output_type": "error",
     "traceback": [
      "\u001b[0;31m---------------------------------------------------------------------------\u001b[0m",
      "\u001b[0;31mAXErrorCannotComplete\u001b[0m                     Traceback (most recent call last)",
      "\u001b[0;32m<ipython-input-128-6ce31cacb0c4>\u001b[0m in \u001b[0;36m<module>\u001b[0;34m()\u001b[0m\n\u001b[0;32m----> 1\u001b[0;31m \u001b[0mwindow\u001b[0m\u001b[0;34m.\u001b[0m\u001b[0mfindFirst\u001b[0m\u001b[0;34m(\u001b[0m\u001b[0mAXRole\u001b[0m\u001b[0;34m=\u001b[0m\u001b[0;34m'AXButton'\u001b[0m\u001b[0;34m,\u001b[0m \u001b[0mAXTitle\u001b[0m\u001b[0;34m=\u001b[0m\u001b[0;34m'卖出下单'\u001b[0m\u001b[0;34m)\u001b[0m\u001b[0;34m.\u001b[0m\u001b[0mPress\u001b[0m\u001b[0;34m(\u001b[0m\u001b[0;34m)\u001b[0m\u001b[0;34m\u001b[0m\u001b[0m\n\u001b[0m",
      "\u001b[0;32m/anaconda3/lib/python3.6/site-packages/atomacos/AXClasses.py\u001b[0m in \u001b[0;36mperformSpecifiedAction\u001b[0;34m()\u001b[0m\n\u001b[1;32m    224\u001b[0m                 \u001b[0;31m# activate the app before performing the specified action\u001b[0m\u001b[0;34m\u001b[0m\u001b[0;34m\u001b[0m\u001b[0m\n\u001b[1;32m    225\u001b[0m                 \u001b[0mself\u001b[0m\u001b[0;34m.\u001b[0m\u001b[0m_activate\u001b[0m\u001b[0;34m(\u001b[0m\u001b[0;34m)\u001b[0m\u001b[0;34m\u001b[0m\u001b[0m\n\u001b[0;32m--> 226\u001b[0;31m                 \u001b[0;32mreturn\u001b[0m \u001b[0maction\u001b[0m\u001b[0;34m(\u001b[0m\u001b[0;34m)\u001b[0m\u001b[0;34m\u001b[0m\u001b[0m\n\u001b[0m\u001b[1;32m    227\u001b[0m \u001b[0;34m\u001b[0m\u001b[0m\n\u001b[1;32m    228\u001b[0m             \u001b[0;32mreturn\u001b[0m \u001b[0mperformSpecifiedAction\u001b[0m\u001b[0;34m\u001b[0m\u001b[0m\n",
      "\u001b[0;32m/anaconda3/lib/python3.6/site-packages/atomacos/_a11y.py\u001b[0m in \u001b[0;36mperform_ax_action\u001b[0;34m()\u001b[0m\n\u001b[1;32m     72\u001b[0m \u001b[0;34m\u001b[0m\u001b[0m\n\u001b[1;32m     73\u001b[0m             \u001b[0;32mdef\u001b[0m \u001b[0mperform_ax_action\u001b[0m\u001b[0;34m(\u001b[0m\u001b[0;34m)\u001b[0m\u001b[0;34m:\u001b[0m\u001b[0;34m\u001b[0m\u001b[0m\n\u001b[0;32m---> 74\u001b[0;31m                 \u001b[0mself\u001b[0m\u001b[0;34m.\u001b[0m\u001b[0m_perform_ax_actions\u001b[0m\u001b[0;34m(\u001b[0m\u001b[0mitem\u001b[0m\u001b[0;34m)\u001b[0m\u001b[0;34m\u001b[0m\u001b[0m\n\u001b[0m\u001b[1;32m     75\u001b[0m \u001b[0;34m\u001b[0m\u001b[0m\n\u001b[1;32m     76\u001b[0m             \u001b[0;32mreturn\u001b[0m \u001b[0mperform_ax_action\u001b[0m\u001b[0;34m\u001b[0m\u001b[0m\n",
      "\u001b[0;32m/anaconda3/lib/python3.6/site-packages/atomacos/_a11y.py\u001b[0m in \u001b[0;36m_perform_ax_actions\u001b[0;34m(self, name)\u001b[0m\n\u001b[1;32m    268\u001b[0m     \u001b[0;32mdef\u001b[0m \u001b[0m_perform_ax_actions\u001b[0m\u001b[0;34m(\u001b[0m\u001b[0mself\u001b[0m\u001b[0;34m,\u001b[0m \u001b[0mname\u001b[0m\u001b[0;34m)\u001b[0m\u001b[0;34m:\u001b[0m\u001b[0;34m\u001b[0m\u001b[0m\n\u001b[1;32m    269\u001b[0m         \u001b[0;34m\"\"\"Performs specified action on the AXUIElementRef\"\"\"\u001b[0m\u001b[0;34m\u001b[0m\u001b[0m\n\u001b[0;32m--> 270\u001b[0;31m         \u001b[0mPAXUIElementPerformAction\u001b[0m\u001b[0;34m(\u001b[0m\u001b[0mself\u001b[0m\u001b[0;34m.\u001b[0m\u001b[0mref\u001b[0m\u001b[0;34m,\u001b[0m \u001b[0mname\u001b[0m\u001b[0;34m)\u001b[0m\u001b[0;34m\u001b[0m\u001b[0m\n\u001b[0m\u001b[1;32m    271\u001b[0m \u001b[0;34m\u001b[0m\u001b[0m\n\u001b[1;32m    272\u001b[0m \u001b[0;34m\u001b[0m\u001b[0m\n",
      "\u001b[0;32m/anaconda3/lib/python3.6/site-packages/atomacos/_macos.py\u001b[0m in \u001b[0;36mPAXUIElementPerformAction\u001b[0;34m(element, action)\u001b[0m\n\u001b[1;32m    224\u001b[0m         \u001b[0merrors\u001b[0m\u001b[0;34m.\u001b[0m\u001b[0mkAXErrorNotImplemented\u001b[0m\u001b[0;34m:\u001b[0m \u001b[0;34m\"The process does not fully support the accessibility API.\"\u001b[0m\u001b[0;34m,\u001b[0m\u001b[0;34m\u001b[0m\u001b[0m\n\u001b[1;32m    225\u001b[0m     }\n\u001b[0;32m--> 226\u001b[0;31m     \u001b[0merrors\u001b[0m\u001b[0;34m.\u001b[0m\u001b[0mcheck_ax_error\u001b[0m\u001b[0;34m(\u001b[0m\u001b[0merror_code\u001b[0m\u001b[0;34m,\u001b[0m \u001b[0merror_messages\u001b[0m\u001b[0;34m)\u001b[0m\u001b[0;34m\u001b[0m\u001b[0m\n\u001b[0m\u001b[1;32m    227\u001b[0m \u001b[0;34m\u001b[0m\u001b[0m\n\u001b[1;32m    228\u001b[0m \u001b[0;34m\u001b[0m\u001b[0m\n",
      "\u001b[0;32m/anaconda3/lib/python3.6/site-packages/atomacos/errors.py\u001b[0m in \u001b[0;36mcheck_ax_error\u001b[0;34m(error_code, error_messages)\u001b[0m\n\u001b[1;32m    116\u001b[0m             \u001b[0merror_message\u001b[0m \u001b[0;34m=\u001b[0m \u001b[0;34m\"Unknown AX Error: %s\"\u001b[0m \u001b[0;34m%\u001b[0m \u001b[0merror_code\u001b[0m\u001b[0;34m\u001b[0m\u001b[0m\n\u001b[1;32m    117\u001b[0m \u001b[0;34m\u001b[0m\u001b[0m\n\u001b[0;32m--> 118\u001b[0;31m     \u001b[0;32mraise\u001b[0m \u001b[0mAXErrorFactory\u001b[0m\u001b[0;34m(\u001b[0m\u001b[0merror_code\u001b[0m\u001b[0;34m)\u001b[0m\u001b[0;34m(\u001b[0m\u001b[0merror_message\u001b[0m\u001b[0;34m)\u001b[0m\u001b[0;34m\u001b[0m\u001b[0m\n\u001b[0m",
      "\u001b[0;31mAXErrorCannotComplete\u001b[0m: The function cannot complete because messaging has failed in some way or the application has not yet responded."
     ]
    }
   ],
   "source": [
    "window.findFirst(AXRole='AXButton', AXTitle='卖出下单').Press()"
   ]
  },
  {
   "cell_type": "code",
   "execution_count": 133,
   "metadata": {},
   "outputs": [
    {
     "name": "stdout",
     "output_type": "stream",
     "text": [
      "login success!\n",
      "login respond error_code:0\n",
      "login respond  error_msg:success\n",
      "query_stock_basic respond error_code:0\n",
      "query_stock_basic respond  error_msg:success\n",
      "           code      code_name     ipoDate outDate type status\n",
      "0     sh.000001         上证综合指数  1991-07-15            2      1\n",
      "1     sh.000002         上证A股指数  1992-02-21            2      1\n",
      "2     sh.000003         上证B股指数  1992-08-17            2      1\n",
      "3     sh.000004        上证工业类指数  1993-05-03            2      1\n",
      "4     sh.000005        上证商业类指数  1993-05-03            2      1\n",
      "5     sh.000006        上证房地产指数  1993-05-03            2      1\n",
      "6     sh.000007       上证公用事业指数  1993-05-03            2      1\n",
      "7     sh.000008       上证综合业类指数  1993-05-03            2      1\n",
      "8     sh.000009          上证380  2010-11-29            2      1\n",
      "9     sh.000010        上证180指数  2002-07-01            2      1\n",
      "10    sh.000011         上证基金指数  2000-06-09            2      1\n",
      "11    sh.000012         上证国债指数  2003-01-02            2      1\n",
      "12    sh.000013        上证企业债指数  2003-06-09            2      1\n",
      "13    sh.000015         上证红利指数  2005-01-04            2      1\n",
      "14    sh.000016         上证50指数  2004-01-02            2      1\n",
      "15    sh.000017          新上证综指  2006-01-04            2      1\n",
      "16    sh.000018     上证180金融股指数  2007-12-10            2      1\n",
      "17    sh.000019       上证公司治理指数  2008-01-02            2      1\n",
      "18    sh.000020     上证中型企业综合指数  2008-05-12            2      1\n",
      "19    sh.000021    上证180公司治理指数  2008-09-10            2      1\n",
      "20    sh.000022           沪公司债  2008-11-19            2      1\n",
      "21    sh.000025      上证180基建指数  2008-12-15            2      1\n",
      "22    sh.000026      上证180资源指数  2008-12-15            2      1\n",
      "23    sh.000027    上证180交通运输指数  2008-12-15            2      1\n",
      "24    sh.000028      上证180成长指数  2009-01-09            2      1\n",
      "25    sh.000029      上证180价值指数  2009-01-09            2      1\n",
      "26    sh.000030    上证180相对成长指数  2009-01-09            2      1\n",
      "27    sh.000031    上证180相对价值指数  2009-01-09            2      1\n",
      "28    sh.000032       上证能源行业指数  2009-01-09            2      1\n",
      "29    sh.000033      上证原材料行业指数  2009-01-09            2      1\n",
      "...         ...            ...         ...     ...  ...    ...\n",
      "4740  sz.399956    中证国有企业200指数  2010-02-09            2      1\n",
      "4741  sz.399957      沪深300运输指数  2009-06-16            2      1\n",
      "4742  sz.399958       中证创业成长指数  2010-03-24            2      1\n",
      "4743  sz.399959     中证中航军工主题指数  2011-08-30            2      1\n",
      "4744  sz.399960       中证龙头企业指数  2010-02-09            2      1\n",
      "4745  sz.399961     中证上游资源产业指数  2010-04-16            2      1\n",
      "4746  sz.399962     中证中游制造产业指数  2010-04-16            2      1\n",
      "4747  sz.399963  中证下游消费与服务产业指数  2010-04-16            2      1\n",
      "4748  sz.399964       中证新兴产业指数  2010-04-30            2      1\n",
      "4749  sz.399965      中证800地产指数  2012-12-21            2      1\n",
      "4750  sz.399966    中证800证券保险指数  2012-12-21            2      1\n",
      "4751  sz.399967         中证军工指数  2013-12-26            2      1\n",
      "4752  sz.399968    沪深300周期行业指数  2010-05-28            2      1\n",
      "4753  sz.399969   沪深300非周期行业指数  2010-05-28            2      1\n",
      "4754  sz.399972      沪深300深市指数  2012-06-21            2      1\n",
      "4755  sz.399974     中证国有企业改革指数  2014-08-07            2      1\n",
      "4756  sz.399977   中证内地低碳经济主题指数  2011-01-21            2      1\n",
      "4757  sz.399978      中证医药100指数  2011-03-18            2      1\n",
      "4758  sz.399979     中证大宗商品股票指数  2011-08-22            2      1\n",
      "4759  sz.399980       中证超级大盘指数  2011-05-10            2      1\n",
      "4760  sz.399982     中证500等权重指数  2011-06-13            2      1\n",
      "4761  sz.399990       中证煤炭等权指数  2015-01-21            2      1\n",
      "4762  sz.399991     中证一带一路主题指数  2015-02-16            2      1\n",
      "4763  sz.399992     中证万得并购重组指数  2015-05-08            2      1\n",
      "4764  sz.399993     中证万得生物科技指数  2015-05-08            2      1\n",
      "4765  sz.399994     中证信息安全主题指数  2015-03-12            2      1\n",
      "4766  sz.399995       中证基建工程指数  2015-03-12            2      1\n",
      "4767  sz.399996       中证智能家居指数  2014-09-17            2      1\n",
      "4768  sz.399997         中证白酒指数  2015-01-21            2      1\n",
      "4769  sz.399998         中证煤炭指数  2015-02-13            2      1\n",
      "\n",
      "[4770 rows x 6 columns]\n",
      "logout success!\n"
     ]
    },
    {
     "data": {
      "text/plain": [
       "<baostock.data.resultset.ResultData at 0x10dc0a9b0>"
      ]
     },
     "execution_count": 133,
     "metadata": {},
     "output_type": "execute_result"
    }
   ],
   "source": [
    "import baostock as bs\n",
    "import pandas as pd\n",
    "\n",
    "# 登陆系统\n",
    "lg = bs.login()\n",
    "# 显示登陆返回信息\n",
    "print('login respond error_code:'+lg.error_code)\n",
    "print('login respond  error_msg:'+lg.error_msg)\n",
    "\n",
    "# 获取证券基本资料\n",
    "rs = bs.query_stock_basic()\n",
    "# rs = bs.query_stock_basic(code_name=\"浦发银行\")  # 支持模糊查询\n",
    "print('query_stock_basic respond error_code:'+rs.error_code)\n",
    "print('query_stock_basic respond  error_msg:'+rs.error_msg)\n",
    "\n",
    "# 打印结果集\n",
    "data_list = []\n",
    "while (rs.error_code == '0') & rs.next():\n",
    "    # 获取一条记录，将记录合并在一起\n",
    "    data_list.append(rs.get_row_data())\n",
    "result = pd.DataFrame(data_list, columns=rs.fields)\n",
    "# 结果集输出到csv文件\n",
    "# result.to_csv(\"D:/stock_basic.csv\", encoding=\"gbk\", index=False)\n",
    "print(result)\n",
    "\n",
    "# 登出系统\n",
    "bs.logout()"
   ]
  },
  {
   "cell_type": "code",
   "execution_count": null,
   "metadata": {},
   "outputs": [],
   "source": []
  }
 ],
 "metadata": {
  "kernelspec": {
   "display_name": "PyCharm (quant-trading-system)",
   "language": "python",
   "name": "pycharm-f4b355f5"
  },
  "language_info": {
   "codemirror_mode": {
    "name": "ipython",
    "version": 3
   },
   "file_extension": ".py",
   "mimetype": "text/x-python",
   "name": "python",
   "nbconvert_exporter": "python",
   "pygments_lexer": "ipython3",
   "version": "3.6.10"
  },
  "pycharm": {
   "stem_cell": {
    "cell_type": "raw",
    "metadata": {
     "collapsed": false
    },
    "source": []
   }
  }
 },
 "nbformat": 4,
 "nbformat_minor": 1
}