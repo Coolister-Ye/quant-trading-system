{
 "cells": [
  {
   "cell_type": "code",
   "execution_count": 30,
   "metadata": {
    "pycharm": {
     "is_executing": false
    }
   },
   "outputs": [],
   "source": [
    "import atomacos\n",
    "import pyautogui\n",
    "\n",
    "atomacos.launchAppByBundleId('com.tdx.tdxiMac')\n",
    "app = atomacos.getAppRefByBundleId('com.tdx.tdxiMac')"
   ]
  },
  {
   "cell_type": "code",
   "execution_count": 31,
   "metadata": {
    "pycharm": {
     "is_executing": false,
     "name": "#%%\n"
    }
   },
   "outputs": [
    {
     "name": "stdout",
     "output_type": "stream",
     "text": [
      "平安证券网上交易 苏宁易购\n"
     ]
    }
   ],
   "source": [
    "window = app.windows()[0]\n",
    "window.AXTitle"
   ]
  },
  {
   "cell_type": "code",
   "execution_count": 33,
   "metadata": {},
   "outputs": [
    {
     "data": {
      "text/plain": [
       "[<atomacos.AXClasses.NativeUIElement AXComboBox 深A 0297615685>,\n",
       " <atomacos.AXClasses.NativeUIElement AXComboBox 限价委托>,\n",
       " <atomacos.AXClasses.NativeUIElement AXComboBox combo box>,\n",
       " <atomacos.AXClasses.NativeUIElement AXComboBox 所有币种>]"
      ]
     },
     "execution_count": 33,
     "metadata": {},
     "output_type": "execute_result"
    }
   ],
   "source": [
    "allComboBox = window.findAll(AXRole='AXComboBox')\n",
    "allComboBox"
   ]
  },
  {
   "cell_type": "code",
   "execution_count": 36,
   "metadata": {},
   "outputs": [],
   "source": [
    "ComboBox = allComboBox[0]"
   ]
  },
  {
   "cell_type": "code",
   "execution_count": 37,
   "metadata": {},
   "outputs": [
    {
     "data": {
      "text/plain": [
       "<atomacos.AXClasses.NativeUIElement AXButton button>"
      ]
     },
     "execution_count": 37,
     "metadata": {},
     "output_type": "execute_result"
    }
   ],
   "source": [
    "CodeButton = ComboBox.AXChildren[0]\n",
    "CodeButton"
   ]
  },
  {
   "cell_type": "code",
   "execution_count": 39,
   "metadata": {},
   "outputs": [],
   "source": [
    "CodeButton.clickMouseButtonLeft(CodeButton.AXPosition)"
   ]
  },
  {
   "cell_type": "code",
   "execution_count": 40,
   "metadata": {},
   "outputs": [],
   "source": [
    "CodeButton.Press()"
   ]
  },
  {
   "cell_type": "code",
   "execution_count": 41,
   "metadata": {},
   "outputs": [],
   "source": [
    "def clickComboBox(ComboBox, itemIndex=0):\n",
    "    CodeButton = ComboBox.AXChildren[0]\n",
    "    CodeButton.Press()\n",
    "    CodeText = ComboBox.AXChildren[1].AXChildren[0].AXChildren[itemIndex]\n",
    "    CodeText.clickMouseButtonLeft(CodeText.AXPosition)\n",
    "    \n",
    "clickComboBox(allComboBox[0], 1)"
   ]
  },
  {
   "cell_type": "code",
   "execution_count": 43,
   "metadata": {
    "pycharm": {
     "is_executing": false,
     "name": "#%%\n"
    }
   },
   "outputs": [
    {
     "data": {
      "text/plain": [
       "[<atomacos.AXClasses.NativeUIElement AXTextField text field>,\n",
       " <atomacos.AXClasses.NativeUIElement AXTextField text field>,\n",
       " <atomacos.AXClasses.NativeUIElement AXTextField text field>]"
      ]
     },
     "execution_count": 43,
     "metadata": {},
     "output_type": "execute_result"
    }
   ],
   "source": [
    "allTextField = window.textFields()\n",
    "allTextField"
   ]
  },
  {
   "cell_type": "code",
   "execution_count": 49,
   "metadata": {},
   "outputs": [
    {
     "data": {
      "text/plain": [
       "['AXSelectedTextRange',\n",
       " 'AXNumberOfCharacters',\n",
       " 'AXEnabled',\n",
       " 'AXParent',\n",
       " 'AXSize',\n",
       " 'AXFocused',\n",
       " 'AXChildren',\n",
       " 'AXPlaceholderValue',\n",
       " 'AXRole',\n",
       " 'AXTopLevelUIElement',\n",
       " 'AXInsertionPointLineNumber',\n",
       " 'AXHelp',\n",
       " 'AXValue',\n",
       " 'AXPosition',\n",
       " 'AXWindow',\n",
       " 'AXRoleDescription',\n",
       " 'AXChildrenInNavigationOrder',\n",
       " 'AXVisibleCharacterRange',\n",
       " 'AXSelectedText',\n",
       " 'AXFrame']"
      ]
     },
     "execution_count": 49,
     "metadata": {},
     "output_type": "execute_result"
    }
   ],
   "source": [
    "allTextField[0].getAttributes()"
   ]
  },
  {
   "cell_type": "code",
   "execution_count": 55,
   "metadata": {},
   "outputs": [],
   "source": [
    "allTextField[0].AXSelectedText = '002024'\n",
    "allTextField[0].Confirm()"
   ]
  },
  {
   "cell_type": "code",
   "execution_count": 65,
   "metadata": {
    "pycharm": {
     "is_executing": false,
     "name": "#%%\n"
    }
   },
   "outputs": [
    {
     "data": {
      "text/plain": [
       "<atomacos.AXClasses.NativeUIElement AXComboBox 深A 0297615685>"
      ]
     },
     "execution_count": 65,
     "metadata": {},
     "output_type": "execute_result"
    }
   ],
   "source": [
    "marketCodeComboBox =  window.findFirst(AXRole='AXComboBox')\n",
    "marketCodeComboBox"
   ]
  },
  {
   "cell_type": "code",
   "execution_count": 66,
   "metadata": {
    "pycharm": {
     "is_executing": false,
     "name": "#%%\n"
    }
   },
   "outputs": [],
   "source": [
    "bt = marketCodeComboBox.AXChildren[0]\n",
    "bt.clickMouseButtonLeft(bt.AXPosition)"
   ]
  },
  {
   "cell_type": "code",
   "execution_count": 67,
   "metadata": {
    "pycharm": {
     "is_executing": false,
     "name": "#%%\n"
    }
   },
   "outputs": [
    {
     "data": {
      "text/plain": [
       "<atomacos.AXClasses.NativeUIElement AXTextField 沪A A867359703>"
      ]
     },
     "execution_count": 67,
     "metadata": {},
     "output_type": "execute_result"
    }
   ],
   "source": [
    "mcbt = marketCodeComboBox.AXChildren[1].AXChildren[0].AXChildren[1]\n",
    "mcbt"
   ]
  },
  {
   "cell_type": "code",
   "execution_count": 68,
   "metadata": {
    "pycharm": {
     "is_executing": false,
     "name": "#%%\n"
    }
   },
   "outputs": [],
   "source": [
    "mcbt.clickMouseButtonLeft(mcbt.AXPosition)\n",
    "\n"
   ]
  },
  {
   "cell_type": "code",
   "execution_count": 17,
   "metadata": {
    "pycharm": {
     "is_executing": false,
     "name": "#%%\n"
    }
   },
   "outputs": [
    {
     "data": {
      "text/plain": [
       "[<atomacos.AXClasses.NativeUIElement AXTextField 002024>,\n",
       " <atomacos.AXClasses.NativeUIElement AXTextField 200>,\n",
       " <atomacos.AXClasses.NativeUIElement AXTextField 10>]"
      ]
     },
     "execution_count": 17,
     "metadata": {},
     "output_type": "execute_result"
    }
   ],
   "source": [
    "tfs = window.textFields()\n",
    "tfs[2].AXValue=100"
   ]
  },
  {
   "cell_type": "code",
   "execution_count": 23,
   "metadata": {},
   "outputs": [],
   "source": [
    "tfs[2].AXValue=str(11)"
   ]
  },
  {
   "cell_type": "code",
   "execution_count": 70,
   "metadata": {
    "pycharm": {
     "is_executing": false,
     "name": "#%%\n"
    }
   },
   "outputs": [],
   "source": [
    "tf.AXFocused = True\n",
    "pyautogui.write(\"00092\", interval=0.1)\n",
    "\n"
   ]
  },
  {
   "cell_type": "code",
   "execution_count": 71,
   "metadata": {
    "pycharm": {
     "is_executing": false,
     "name": "#%%\n"
    }
   },
   "outputs": [
    {
     "data": {
      "text/plain": [
       "[<atomacos.AXClasses.NativeUIElement AXComboBox 沪A A867359703>,\n",
       " <atomacos.AXClasses.NativeUIElement AXComboBox 限价委托>,\n",
       " <atomacos.AXClasses.NativeUIElement AXComboBox combo box>,\n",
       " <atomacos.AXClasses.NativeUIElement AXComboBox 所有币种>]"
      ]
     },
     "execution_count": 71,
     "metadata": {},
     "output_type": "execute_result"
    }
   ],
   "source": [
    "allComboBox =  window.findAll(AXRole='AXComboBox')\n",
    "allComboBox"
   ]
  },
  {
   "cell_type": "code",
   "execution_count": null,
   "metadata": {
    "pycharm": {
     "name": "#%%\n"
    }
   },
   "outputs": [],
   "source": [
    "callWay = allComboBox[1]"
   ]
  },
  {
   "cell_type": "code",
   "execution_count": 85,
   "metadata": {
    "pycharm": {
     "is_executing": false,
     "name": "#%%\n"
    }
   },
   "outputs": [],
   "source": [
    "w  = window.textFields()"
   ]
  },
  {
   "cell_type": "code",
   "execution_count": 88,
   "metadata": {
    "pycharm": {
     "is_executing": false,
     "name": "#%%\n"
    }
   },
   "outputs": [],
   "source": [
    "w[0].AXValue = \"888\"\n",
    "w[1].AXValue = \"9.99\"\n",
    "w[2].AXValue = \"6.66\""
   ]
  },
  {
   "cell_type": "code",
   "execution_count": 86,
   "metadata": {
    "pycharm": {
     "is_executing": false,
     "name": "#%%\n"
    }
   },
   "outputs": [
    {
     "data": {
      "text/plain": [
       "[<atomacos.AXClasses.NativeUIElement AXTextField text field>,\n",
       " <atomacos.AXClasses.NativeUIElement AXTextField text field>,\n",
       " <atomacos.AXClasses.NativeUIElement AXTextField text field>]"
      ]
     },
     "execution_count": 86,
     "metadata": {},
     "output_type": "execute_result"
    }
   ],
   "source": [
    "w\n"
   ]
  },
  {
   "cell_type": "code",
   "execution_count": 25,
   "metadata": {},
   "outputs": [],
   "source": [
    "d = app.windows()[0]"
   ]
  },
  {
   "cell_type": "code",
   "execution_count": 27,
   "metadata": {},
   "outputs": [
    {
     "data": {
      "text/plain": [
       "['AXFocused',\n",
       " 'AXFullScreen',\n",
       " 'AXTitle',\n",
       " 'AXChildrenInNavigationOrder',\n",
       " 'AXPosition',\n",
       " 'AXGrowArea',\n",
       " 'AXMinimizeButton',\n",
       " 'AXDocument',\n",
       " 'AXSections',\n",
       " 'AXCloseButton',\n",
       " 'AXMain',\n",
       " 'AXFullScreenButton',\n",
       " 'AXProxy',\n",
       " 'AXDefaultButton',\n",
       " 'AXMinimized',\n",
       " 'AXChildren',\n",
       " 'AXRole',\n",
       " 'AXParent',\n",
       " 'AXTitleUIElement',\n",
       " 'AXCancelButton',\n",
       " 'AXModal',\n",
       " 'AXSubrole',\n",
       " 'AXDescription',\n",
       " 'AXZoomButton',\n",
       " 'AXRoleDescription',\n",
       " 'AXSize',\n",
       " 'AXToolbarButton',\n",
       " 'AXFrame',\n",
       " 'AXIdentifier']"
      ]
     },
     "execution_count": 27,
     "metadata": {},
     "output_type": "execute_result"
    }
   ],
   "source": [
    "d.getAttributes()"
   ]
  },
  {
   "cell_type": "code",
   "execution_count": 28,
   "metadata": {},
   "outputs": [
    {
     "data": {
      "text/plain": [
       "'dialog'"
      ]
     },
     "execution_count": 28,
     "metadata": {},
     "output_type": "execute_result"
    }
   ],
   "source": [
    "d.AXRoleDescription"
   ]
  },
  {
   "cell_type": "code",
   "execution_count": 29,
   "metadata": {},
   "outputs": [
    {
     "data": {
      "text/plain": [
       "[]"
      ]
     },
     "execution_count": 29,
     "metadata": {},
     "output_type": "execute_result"
    }
   ],
   "source": [
    "app.windows('dialog')"
   ]
  },
  {
   "cell_type": "code",
   "execution_count": 127,
   "metadata": {},
   "outputs": [],
   "source": [
    "dialog = app.windows()[0]"
   ]
  },
  {
   "cell_type": "code",
   "execution_count": 57,
   "metadata": {},
   "outputs": [
    {
     "data": {
      "text/plain": [
       "<atomacos.AXClasses.NativeUIElement AXWindow dialog>"
      ]
     },
     "execution_count": 57,
     "metadata": {},
     "output_type": "execute_result"
    }
   ],
   "source": [
    "dialog"
   ]
  },
  {
   "cell_type": "code",
   "execution_count": 60,
   "metadata": {},
   "outputs": [
    {
     "data": {
      "text/plain": [
       "[<atomacos.AXClasses.NativeUIElement AXButton 确定>]"
      ]
     },
     "execution_count": 60,
     "metadata": {},
     "output_type": "execute_result"
    }
   ],
   "source": [
    "dialog.buttons('确定')"
   ]
  },
  {
   "cell_type": "code",
   "execution_count": 129,
   "metadata": {},
   "outputs": [],
   "source": [
    "actionButton = window.findFirst(AXRole='AXButton', AXTitle='卖出下单')"
   ]
  },
  {
   "cell_type": "code",
   "execution_count": 94,
   "metadata": {},
   "outputs": [
    {
     "data": {
      "text/plain": [
       "<atomacos.AXClasses.NativeUIElement AXButton 卖出下单>"
      ]
     },
     "execution_count": 94,
     "metadata": {},
     "output_type": "execute_result"
    }
   ],
   "source": [
    "actionButton"
   ]
  },
  {
   "cell_type": "code",
   "execution_count": 130,
   "metadata": {},
   "outputs": [
    {
     "data": {
      "text/plain": [
       "CGPoint(x=879.0, y=689.0)"
      ]
     },
     "execution_count": 130,
     "metadata": {},
     "output_type": "execute_result"
    }
   ],
   "source": [
    "p = actionButton.AXPosition\n",
    "p"
   ]
  },
  {
   "cell_type": "code",
   "execution_count": 131,
   "metadata": {},
   "outputs": [],
   "source": [
    "atomacos.launchAppByBundleId('com.tdx.tdxiMac')\n",
    "actionButton = window.findFirst(AXRole='AXButton', AXTitle='卖出下单')\n",
    "pyautogui.moveTo(actionButton.AXPosition)\n",
    "pyautogui.click()"
   ]
  },
  {
   "cell_type": "code",
   "execution_count": 128,
   "metadata": {},
   "outputs": [
    {
     "ename": "AXErrorCannotComplete",
     "evalue": "The function cannot complete because messaging has failed in some way or the application has not yet responded.",
     "output_type": "error",
     "traceback": [
      "\u001b[0;31m---------------------------------------------------------------------------\u001b[0m",
      "\u001b[0;31mAXErrorCannotComplete\u001b[0m                     Traceback (most recent call last)",
      "\u001b[0;32m<ipython-input-128-6ce31cacb0c4>\u001b[0m in \u001b[0;36m<module>\u001b[0;34m()\u001b[0m\n\u001b[0;32m----> 1\u001b[0;31m \u001b[0mwindow\u001b[0m\u001b[0;34m.\u001b[0m\u001b[0mfindFirst\u001b[0m\u001b[0;34m(\u001b[0m\u001b[0mAXRole\u001b[0m\u001b[0;34m=\u001b[0m\u001b[0;34m'AXButton'\u001b[0m\u001b[0;34m,\u001b[0m \u001b[0mAXTitle\u001b[0m\u001b[0;34m=\u001b[0m\u001b[0;34m'卖出下单'\u001b[0m\u001b[0;34m)\u001b[0m\u001b[0;34m.\u001b[0m\u001b[0mPress\u001b[0m\u001b[0;34m(\u001b[0m\u001b[0;34m)\u001b[0m\u001b[0;34m\u001b[0m\u001b[0m\n\u001b[0m",
      "\u001b[0;32m/anaconda3/lib/python3.6/site-packages/atomacos/AXClasses.py\u001b[0m in \u001b[0;36mperformSpecifiedAction\u001b[0;34m()\u001b[0m\n\u001b[1;32m    224\u001b[0m                 \u001b[0;31m# activate the app before performing the specified action\u001b[0m\u001b[0;34m\u001b[0m\u001b[0;34m\u001b[0m\u001b[0m\n\u001b[1;32m    225\u001b[0m                 \u001b[0mself\u001b[0m\u001b[0;34m.\u001b[0m\u001b[0m_activate\u001b[0m\u001b[0;34m(\u001b[0m\u001b[0;34m)\u001b[0m\u001b[0;34m\u001b[0m\u001b[0m\n\u001b[0;32m--> 226\u001b[0;31m                 \u001b[0;32mreturn\u001b[0m \u001b[0maction\u001b[0m\u001b[0;34m(\u001b[0m\u001b[0;34m)\u001b[0m\u001b[0;34m\u001b[0m\u001b[0m\n\u001b[0m\u001b[1;32m    227\u001b[0m \u001b[0;34m\u001b[0m\u001b[0m\n\u001b[1;32m    228\u001b[0m             \u001b[0;32mreturn\u001b[0m \u001b[0mperformSpecifiedAction\u001b[0m\u001b[0;34m\u001b[0m\u001b[0m\n",
      "\u001b[0;32m/anaconda3/lib/python3.6/site-packages/atomacos/_a11y.py\u001b[0m in \u001b[0;36mperform_ax_action\u001b[0;34m()\u001b[0m\n\u001b[1;32m     72\u001b[0m \u001b[0;34m\u001b[0m\u001b[0m\n\u001b[1;32m     73\u001b[0m             \u001b[0;32mdef\u001b[0m \u001b[0mperform_ax_action\u001b[0m\u001b[0;34m(\u001b[0m\u001b[0;34m)\u001b[0m\u001b[0;34m:\u001b[0m\u001b[0;34m\u001b[0m\u001b[0m\n\u001b[0;32m---> 74\u001b[0;31m                 \u001b[0mself\u001b[0m\u001b[0;34m.\u001b[0m\u001b[0m_perform_ax_actions\u001b[0m\u001b[0;34m(\u001b[0m\u001b[0mitem\u001b[0m\u001b[0;34m)\u001b[0m\u001b[0;34m\u001b[0m\u001b[0m\n\u001b[0m\u001b[1;32m     75\u001b[0m \u001b[0;34m\u001b[0m\u001b[0m\n\u001b[1;32m     76\u001b[0m             \u001b[0;32mreturn\u001b[0m \u001b[0mperform_ax_action\u001b[0m\u001b[0;34m\u001b[0m\u001b[0m\n",
      "\u001b[0;32m/anaconda3/lib/python3.6/site-packages/atomacos/_a11y.py\u001b[0m in \u001b[0;36m_perform_ax_actions\u001b[0;34m(self, name)\u001b[0m\n\u001b[1;32m    268\u001b[0m     \u001b[0;32mdef\u001b[0m \u001b[0m_perform_ax_actions\u001b[0m\u001b[0;34m(\u001b[0m\u001b[0mself\u001b[0m\u001b[0;34m,\u001b[0m \u001b[0mname\u001b[0m\u001b[0;34m)\u001b[0m\u001b[0;34m:\u001b[0m\u001b[0;34m\u001b[0m\u001b[0m\n\u001b[1;32m    269\u001b[0m         \u001b[0;34m\"\"\"Performs specified action on the AXUIElementRef\"\"\"\u001b[0m\u001b[0;34m\u001b[0m\u001b[0m\n\u001b[0;32m--> 270\u001b[0;31m         \u001b[0mPAXUIElementPerformAction\u001b[0m\u001b[0;34m(\u001b[0m\u001b[0mself\u001b[0m\u001b[0;34m.\u001b[0m\u001b[0mref\u001b[0m\u001b[0;34m,\u001b[0m \u001b[0mname\u001b[0m\u001b[0;34m)\u001b[0m\u001b[0;34m\u001b[0m\u001b[0m\n\u001b[0m\u001b[1;32m    271\u001b[0m \u001b[0;34m\u001b[0m\u001b[0m\n\u001b[1;32m    272\u001b[0m \u001b[0;34m\u001b[0m\u001b[0m\n",
      "\u001b[0;32m/anaconda3/lib/python3.6/site-packages/atomacos/_macos.py\u001b[0m in \u001b[0;36mPAXUIElementPerformAction\u001b[0;34m(element, action)\u001b[0m\n\u001b[1;32m    224\u001b[0m         \u001b[0merrors\u001b[0m\u001b[0;34m.\u001b[0m\u001b[0mkAXErrorNotImplemented\u001b[0m\u001b[0;34m:\u001b[0m \u001b[0;34m\"The process does not fully support the accessibility API.\"\u001b[0m\u001b[0;34m,\u001b[0m\u001b[0;34m\u001b[0m\u001b[0m\n\u001b[1;32m    225\u001b[0m     }\n\u001b[0;32m--> 226\u001b[0;31m     \u001b[0merrors\u001b[0m\u001b[0;34m.\u001b[0m\u001b[0mcheck_ax_error\u001b[0m\u001b[0;34m(\u001b[0m\u001b[0merror_code\u001b[0m\u001b[0;34m,\u001b[0m \u001b[0merror_messages\u001b[0m\u001b[0;34m)\u001b[0m\u001b[0;34m\u001b[0m\u001b[0m\n\u001b[0m\u001b[1;32m    227\u001b[0m \u001b[0;34m\u001b[0m\u001b[0m\n\u001b[1;32m    228\u001b[0m \u001b[0;34m\u001b[0m\u001b[0m\n",
      "\u001b[0;32m/anaconda3/lib/python3.6/site-packages/atomacos/errors.py\u001b[0m in \u001b[0;36mcheck_ax_error\u001b[0;34m(error_code, error_messages)\u001b[0m\n\u001b[1;32m    116\u001b[0m             \u001b[0merror_message\u001b[0m \u001b[0;34m=\u001b[0m \u001b[0;34m\"Unknown AX Error: %s\"\u001b[0m \u001b[0;34m%\u001b[0m \u001b[0merror_code\u001b[0m\u001b[0;34m\u001b[0m\u001b[0m\n\u001b[1;32m    117\u001b[0m \u001b[0;34m\u001b[0m\u001b[0m\n\u001b[0;32m--> 118\u001b[0;31m     \u001b[0;32mraise\u001b[0m \u001b[0mAXErrorFactory\u001b[0m\u001b[0;34m(\u001b[0m\u001b[0merror_code\u001b[0m\u001b[0;34m)\u001b[0m\u001b[0;34m(\u001b[0m\u001b[0merror_message\u001b[0m\u001b[0;34m)\u001b[0m\u001b[0;34m\u001b[0m\u001b[0m\n\u001b[0m",
      "\u001b[0;31mAXErrorCannotComplete\u001b[0m: The function cannot complete because messaging has failed in some way or the application has not yet responded."
     ]
    }
   ],
   "source": [
    "window.findFirst(AXRole='AXButton', AXTitle='卖出下单').Press()"
   ]
  },
  {
   "cell_type": "code",
   "execution_count": null,
   "metadata": {},
   "outputs": [],
   "source": []
  }
 ],
 "metadata": {
  "kernelspec": {
   "display_name": "PyCharm (quant-trading-system)",
   "language": "python",
   "name": "pycharm-f4b355f5"
  },
  "language_info": {
   "codemirror_mode": {
    "name": "ipython",
    "version": 3
   },
   "file_extension": ".py",
   "mimetype": "text/x-python",
   "name": "python",
   "nbconvert_exporter": "python",
   "pygments_lexer": "ipython3",
   "version": "3.6.4"
  },
  "pycharm": {
   "stem_cell": {
    "cell_type": "raw",
    "metadata": {
     "collapsed": false
    },
    "source": []
   }
  }
 },
 "nbformat": 4,
 "nbformat_minor": 1
}
